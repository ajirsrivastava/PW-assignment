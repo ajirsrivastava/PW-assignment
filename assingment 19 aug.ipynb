{
 "cells": [
  {
   "cell_type": "code",
   "execution_count": 4,
   "id": "83a879a5-2446-4bd4-9417-530ed2f387e9",
   "metadata": {},
   "outputs": [],
   "source": [
    "#1. Declare two variables, `x` and `y`, and assign them integer values. Swap thevalues of these variables without using any temporary variable."
   ]
  },
  {
   "cell_type": "code",
   "execution_count": 8,
   "id": "0f8186d3-abea-47fe-9dff-7a702f6a5b60",
   "metadata": {},
   "outputs": [
    {
     "name": "stdout",
     "output_type": "stream",
     "text": [
      "10\n",
      "5\n"
     ]
    }
   ],
   "source": [
    "x = 5\n",
    "y = 10\n",
    "ab = x\n",
    "x = y\n",
    "y = ab\n",
    "print(x)\n",
    "print(y)"
   ]
  },
  {
   "cell_type": "code",
   "execution_count": 9,
   "id": "e1d517d3-01a0-40af-be06-aaa8ce7ded20",
   "metadata": {},
   "outputs": [],
   "source": [
    "#2. Create a program that calculates the area of a rectangle. Take the length and\n",
    "#width as inputs from the user and store them in variables. Calculate and\n",
    "#display the area."
   ]
  },
  {
   "cell_type": "code",
   "execution_count": 10,
   "id": "292e4920-4e85-47f0-9ecd-7c791074b40f",
   "metadata": {},
   "outputs": [
    {
     "name": "stdin",
     "output_type": "stream",
     "text": [
      "enter the length 15\n",
      "enter the width 10\n"
     ]
    },
    {
     "name": "stdout",
     "output_type": "stream",
     "text": [
      "150\n"
     ]
    }
   ],
   "source": [
    "x1 = int(input(\"enter the length\"))\n",
    "y1 = int(input(\"enter the width\"))\n",
    "z1 = x1*y1\n",
    "print(z1)"
   ]
  },
  {
   "cell_type": "code",
   "execution_count": 11,
   "id": "2310643a-a28a-4177-92bb-e1afbe9d2855",
   "metadata": {},
   "outputs": [],
   "source": [
    "#3. Write a Python program that converts temperatures from Celsius to\n",
    "#Fahrenheit. Take the temperature in Celsius as input, store it in a variable,\n",
    "#convert it to Fahrenheit, and display the result."
   ]
  },
  {
   "cell_type": "code",
   "execution_count": 19,
   "id": "eb84bb87-a79e-4c3c-aabc-f12a399d007f",
   "metadata": {},
   "outputs": [
    {
     "name": "stdin",
     "output_type": "stream",
     "text": [
      "enter the degree in celcious 0\n"
     ]
    },
    {
     "data": {
      "text/plain": [
       "(0.0, 32.0)"
      ]
     },
     "execution_count": 19,
     "metadata": {},
     "output_type": "execute_result"
    }
   ],
   "source": [
    "celcious_2 = float(input(\"enter the degree in celcious\"))\n",
    "Fahrenheit_2 = (celcious_2 * 9/5) + 32  \n",
    "(celcious_2,Fahrenheit_2)"
   ]
  },
  {
   "cell_type": "code",
   "execution_count": 20,
   "id": "86b45571-f719-44d9-b2d1-86b2d0d7a9aa",
   "metadata": {},
   "outputs": [],
   "source": [
    "#String Based Questions"
   ]
  },
  {
   "cell_type": "code",
   "execution_count": 21,
   "id": "ef2cad52-2642-427e-bce4-aa519dc15aac",
   "metadata": {},
   "outputs": [],
   "source": [
    "#1. Write a Python program that takes a string as input and prints the length of the string.\n"
   ]
  },
  {
   "cell_type": "code",
   "execution_count": 23,
   "id": "253d55cb-b677-407f-b471-d268abe99075",
   "metadata": {},
   "outputs": [
    {
     "data": {
      "text/plain": [
       "15"
      ]
     },
     "execution_count": 23,
     "metadata": {},
     "output_type": "execute_result"
    }
   ],
   "source": [
    "l = \"ajir srivastava\"\n",
    "len(l)"
   ]
  },
  {
   "cell_type": "code",
   "execution_count": 24,
   "id": "4d1ae34f-49cf-4110-9e31-0f48be0a5b90",
   "metadata": {},
   "outputs": [],
   "source": [
    "#2. Create a program that takes a sentence from the user and counts the number\n",
    "#of vowels (a, e, i, o, u) in the string."
   ]
  },
  {
   "cell_type": "code",
   "execution_count": 28,
   "id": "20163456-4bd0-4edd-a329-73a7577d8a0a",
   "metadata": {},
   "outputs": [
    {
     "name": "stdout",
     "output_type": "stream",
     "text": [
      "6\n"
     ]
    }
   ],
   "source": [
    "string = \"ajir srivastava\"\n",
    "\n",
    "\n",
    "vowels = \"aeiouAEIOU\"\n",
    " \n",
    "count = sum(string.count(vowel) for vowel in vowels)\n",
    "\n",
    "print(count)"
   ]
  },
  {
   "cell_type": "code",
   "execution_count": null,
   "id": "bc35b66d-523d-4d93-a513-ef6fc117b495",
   "metadata": {},
   "outputs": [],
   "source": [
    "#3. Given a string, reverse the order of characters using string slicing and print\n",
    "#the reversed string."
   ]
  },
  {
   "cell_type": "code",
   "execution_count": 32,
   "id": "4a1b47e6-afbf-49b5-ae7d-6bbe0011a445",
   "metadata": {},
   "outputs": [
    {
     "data": {
      "text/plain": [
       "'avatsavirs rija si eman ym'"
      ]
     },
     "execution_count": 32,
     "metadata": {},
     "output_type": "execute_result"
    }
   ],
   "source": [
    "ab = \"my name is ajir srivastava\"\n",
    "ab[::-1]"
   ]
  },
  {
   "cell_type": "code",
   "execution_count": 33,
   "id": "57f7b065-3d43-4a1c-bc07-b579890d94c2",
   "metadata": {},
   "outputs": [],
   "source": [
    "#4. Write a program that takes a string as input and checks if it is a palindrome\n",
    "#(reads the same forwards and backwards)."
   ]
  },
  {
   "cell_type": "code",
   "execution_count": null,
   "id": "ce7f1cf1-06d5-4d77-9a0c-c6c3cc4a7514",
   "metadata": {},
   "outputs": [],
   "source": [
    "A = input(\"enter the name\")\n",
    "B = isPalindrome(A)\n",
    "if(B):\n",
    "  print(\"yes\")\n",
    "else:\n",
    "  print(\"no\")"
   ]
  },
  {
   "cell_type": "code",
   "execution_count": null,
   "id": "82a74e37-809b-46ba-a1cb-e6fc431ded4c",
   "metadata": {},
   "outputs": [],
   "source": [
    "#5. Create a program that takes a string as input and removes all the spaces from\n",
    "#it. Print the modified string without spaces."
   ]
  },
  {
   "cell_type": "code",
   "execution_count": 4,
   "id": "73dbce17-dee8-40e3-8630-1c2f232ea349",
   "metadata": {},
   "outputs": [
    {
     "name": "stdin",
     "output_type": "stream",
     "text": [
      "enter the name ajir\n",
      "enter the surname srivastava\n"
     ]
    },
    {
     "data": {
      "text/plain": [
       "'ajirsrivastava'"
      ]
     },
     "execution_count": 4,
     "metadata": {},
     "output_type": "execute_result"
    }
   ],
   "source": [
    "m = input(\"enter the name\")\n",
    "n = input(\"enter the surname\")\n",
    "o = m + \"\"+ n\n",
    "o"
   ]
  },
  {
   "cell_type": "code",
   "execution_count": null,
   "id": "c675ddf0-4816-4aba-8402-5db23a725e1e",
   "metadata": {},
   "outputs": [],
   "source": []
  },
  {
   "cell_type": "code",
   "execution_count": null,
   "id": "d265defd-a1b3-4885-9ce1-557ed8386948",
   "metadata": {},
   "outputs": [],
   "source": []
  }
 ],
 "metadata": {
  "kernelspec": {
   "display_name": "Python 3 (ipykernel)",
   "language": "python",
   "name": "python3"
  },
  "language_info": {
   "codemirror_mode": {
    "name": "ipython",
    "version": 3
   },
   "file_extension": ".py",
   "mimetype": "text/x-python",
   "name": "python",
   "nbconvert_exporter": "python",
   "pygments_lexer": "ipython3",
   "version": "3.10.8"
  }
 },
 "nbformat": 4,
 "nbformat_minor": 5
}
